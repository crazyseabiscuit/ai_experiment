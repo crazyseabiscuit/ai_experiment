{
 "cells": [
  {
   "cell_type": "code",
   "execution_count": 32,
   "metadata": {},
   "outputs": [],
   "source": [
    "import re\n",
    "import httpx\n",
    "import os\n",
    "from dashscope import Generation\n",
    "from http import HTTPStatus"
   ]
  },
  {
   "cell_type": "code",
   "execution_count": 33,
   "metadata": {},
   "outputs": [],
   "source": [
    "from qwen import QOWCaller\n",
    "client = QOWCaller()"
   ]
  },
  {
   "cell_type": "code",
   "execution_count": 34,
   "metadata": {},
   "outputs": [],
   "source": [
    "class Agent:\n",
    "    def __init__(self, system=\"\", model_name=\"qwen-max\"):\n",
    "        self.system = system\n",
    "        self.model_name = model_name\n",
    "        self.messages = []\n",
    "        if self.system:\n",
    "            self.messages.append({\"role\": \"system\", \"content\": system})\n",
    "\n",
    "    def __call__(self, message):\n",
    "        self.messages.append({\"role\": \"user\", \"content\": message})\n",
    "        result = self.execute()\n",
    "        self.messages.append({\"role\": \"assistant\", \"content\": result})\n",
    "        return result\n",
    "\n",
    "    def execute(self):\n",
    "        response = Generation.call(\n",
    "            model=self.model_name,\n",
    "            messages=self.messages,\n",
    "            result_format=\"message\",\n",
    "        )\n",
    "        if response.status_code != HTTPStatus.OK:\n",
    "            print(\n",
    "                \"Request id: %s, Status code: %s, error code: %s, error message: %s\"\n",
    "                % (\n",
    "                    response.request_id,\n",
    "                    response.status_code,\n",
    "                    response.code,\n",
    "                    response.message,\n",
    "                )\n",
    "            )\n",
    "\n",
    "        return response.output.choices[0].message.content"
   ]
  },
  {
   "cell_type": "code",
   "execution_count": 35,
   "metadata": {},
   "outputs": [],
   "source": [
    "prompt = \"\"\"\n",
    "You run in a loop of Thought, Action, PAUSE, Observation.\n",
    "At the end of the loop you output an Answer\n",
    "Use Thought to describe your thoughts about the question you have been asked.\n",
    "Use Action to run one of the actions available to you - then return PAUSE.\n",
    "Observation will be the result of running those actions.\n",
    "\n",
    "Your available actions are:\n",
    "\n",
    "calculate:\n",
    "e.g. calculate: 4 * 7 / 3\n",
    "Runs a calculation and returns the number - uses Python so be sure to use floating point syntax if necessary\n",
    "\n",
    "average_dog_weight:\n",
    "e.g. average_dog_weight: Collie\n",
    "returns average weight of a dog when given the breed\n",
    "\n",
    "Example session:\n",
    "\n",
    "Question: How much does a Bulldog weigh?\n",
    "Thought: I should look the dogs weight using average_dog_weight\n",
    "Action: average_dog_weight: Bulldog\n",
    "PAUSE\n",
    "\n",
    "You will be called again with this:\n",
    "\n",
    "Observation: A Bulldog weights 51 lbs\n",
    "\n",
    "You then output:\n",
    "\n",
    "Answer: A bulldog weights 51 lbs\n",
    "\"\"\".strip()"
   ]
  },
  {
   "cell_type": "code",
   "execution_count": 36,
   "metadata": {},
   "outputs": [],
   "source": [
    "def calculate(what):\n",
    "    return eval(what)\n",
    "\n",
    "def average_dog_weight(name):\n",
    "    if name in \"Scottish Terrier\": \n",
    "        return(\"Scottish Terriers average 20 lbs\")\n",
    "    elif name in \"Border Collie\":\n",
    "        return(\"a Border Collies average weight is 37 lbs\")\n",
    "    elif name in \"Toy Poodle\":\n",
    "        return(\"a toy poodles average weight is 7 lbs\")\n",
    "    else:\n",
    "        return(\"An average dog weights 50 lbs\")\n",
    "\n",
    "known_actions = {\n",
    "    \"calculate\": calculate,\n",
    "    \"average_dog_weight\": average_dog_weight\n",
    "}"
   ]
  },
  {
   "cell_type": "code",
   "execution_count": 37,
   "metadata": {},
   "outputs": [
    {
     "name": "stdout",
     "output_type": "stream",
     "text": [
      "Thought: I should find out the weight of a Toy Poodle using the average_dog_weight action.\n",
      "Action: average_dog_weight: Toy Poodle\n",
      "PAUSE\n"
     ]
    }
   ],
   "source": [
    "abot = Agent(prompt)\n",
    "result = abot(\"How much does a toy poodle weigh?\")\n",
    "print(result)"
   ]
  },
  {
   "cell_type": "markdown",
   "metadata": {},
   "source": []
  },
  {
   "cell_type": "code",
   "execution_count": 38,
   "metadata": {},
   "outputs": [
    {
     "data": {
      "text/plain": [
       "'a toy poodles average weight is 7 lbs'"
      ]
     },
     "execution_count": 38,
     "metadata": {},
     "output_type": "execute_result"
    }
   ],
   "source": [
    "\n",
    "result = average_dog_weight(\"Toy Poodle\")\n",
    "result"
   ]
  },
  {
   "cell_type": "code",
   "execution_count": 39,
   "metadata": {},
   "outputs": [
    {
     "data": {
      "text/plain": [
       "'Observation: a toy poodles average weight is 7 lbs'"
      ]
     },
     "execution_count": 39,
     "metadata": {},
     "output_type": "execute_result"
    }
   ],
   "source": [
    "next_prompt = \"Observation: {}\".format(result)\n",
    "next_prompt"
   ]
  },
  {
   "cell_type": "code",
   "execution_count": 40,
   "metadata": {},
   "outputs": [
    {
     "data": {
      "text/plain": [
       "\"Answer: A Toy Poodle's average weight is 7 lbs.\""
      ]
     },
     "execution_count": 40,
     "metadata": {},
     "output_type": "execute_result"
    }
   ],
   "source": [
    "abot(next_prompt)"
   ]
  },
  {
   "cell_type": "code",
   "execution_count": 41,
   "metadata": {},
   "outputs": [
    {
     "data": {
      "text/plain": [
       "[{'role': 'system',\n",
       "  'content': 'You run in a loop of Thought, Action, PAUSE, Observation.\\nAt the end of the loop you output an Answer\\nUse Thought to describe your thoughts about the question you have been asked.\\nUse Action to run one of the actions available to you - then return PAUSE.\\nObservation will be the result of running those actions.\\n\\nYour available actions are:\\n\\ncalculate:\\ne.g. calculate: 4 * 7 / 3\\nRuns a calculation and returns the number - uses Python so be sure to use floating point syntax if necessary\\n\\naverage_dog_weight:\\ne.g. average_dog_weight: Collie\\nreturns average weight of a dog when given the breed\\n\\nExample session:\\n\\nQuestion: How much does a Bulldog weigh?\\nThought: I should look the dogs weight using average_dog_weight\\nAction: average_dog_weight: Bulldog\\nPAUSE\\n\\nYou will be called again with this:\\n\\nObservation: A Bulldog weights 51 lbs\\n\\nYou then output:\\n\\nAnswer: A bulldog weights 51 lbs'},\n",
       " {'role': 'user', 'content': 'How much does a toy poodle weigh?'},\n",
       " {'role': 'assistant',\n",
       "  'content': 'Thought: I should find out the weight of a Toy Poodle using the average_dog_weight action.\\nAction: average_dog_weight: Toy Poodle\\nPAUSE'},\n",
       " {'role': 'user',\n",
       "  'content': 'Observation: a toy poodles average weight is 7 lbs'},\n",
       " {'role': 'assistant',\n",
       "  'content': \"Answer: A Toy Poodle's average weight is 7 lbs.\"}]"
      ]
     },
     "execution_count": 41,
     "metadata": {},
     "output_type": "execute_result"
    }
   ],
   "source": [
    "abot.messages"
   ]
  },
  {
   "cell_type": "code",
   "execution_count": 42,
   "metadata": {},
   "outputs": [],
   "source": [
    "import re\n",
    "action_re = re.compile('^Action: (\\w+): (.*)$')"
   ]
  },
  {
   "cell_type": "code",
   "execution_count": 43,
   "metadata": {},
   "outputs": [],
   "source": [
    "def query(question, max_turns=5):\n",
    "    i = 0\n",
    "    bot = Agent(prompt)\n",
    "    next_prompt = question\n",
    "    while i < max_turns:\n",
    "        i += 1\n",
    "        result = bot(next_prompt)\n",
    "        print(result)\n",
    "        actions = [\n",
    "            action_re.match(a) \n",
    "            for a in result.split('\\n') \n",
    "            if action_re.match(a)\n",
    "        ]\n",
    "        if actions:\n",
    "            # There is an action to run\n",
    "            action, action_input = actions[0].groups()\n",
    "            if action not in known_actions:\n",
    "                raise Exception(\"Unknown action: {}: {}\".format(action, action_input))\n",
    "            print(\" -- running {} {}\".format(action, action_input))\n",
    "            observation = known_actions[action](action_input)\n",
    "            print(\"Observation:\", observation)\n",
    "            next_prompt = \"Observation: {}\".format(observation)\n",
    "        else:\n",
    "            return"
   ]
  },
  {
   "cell_type": "code",
   "execution_count": 45,
   "metadata": {},
   "outputs": [
    {
     "name": "stdout",
     "output_type": "stream",
     "text": [
      "Thought: I need to find out the average weight of a Border Collie and a Scottish Terrier, then add those two weights together.\n",
      "Action: average_dog_weight: Border Collie\n",
      "PAUSE\n",
      " -- running average_dog_weight Border Collie\n",
      "Observation: a Border Collies average weight is 37 lbs\n",
      "Thought: Now that I know the average weight of a Border Collie, I will find out the average weight of a Scottish Terrier.\n",
      "Action: average_dog_weight: Scottish Terrier\n",
      "PAUSE\n",
      " -- running average_dog_weight Scottish Terrier\n",
      "Observation: Scottish Terriers average 20 lbs\n",
      "Thought: I have the weights of both breeds, now I just need to add them together to get the combined weight of the two dogs.\n",
      "Action: calculate: 37 + 20\n",
      "PAUSE\n",
      " -- running calculate 37 + 20\n",
      "Observation: 57\n",
      "Answer: The combined weight of your Border Collie and Scottish Terrier is 57 lbs.\n"
     ]
    }
   ],
   "source": [
    "question = \"\"\"I have 2 dogs, a border collie and a scottish terrier. \\\n",
    "What is their combined weight\"\"\"\n",
    "query(question)"
   ]
  },
  {
   "cell_type": "code",
   "execution_count": null,
   "metadata": {},
   "outputs": [],
   "source": []
  },
  {
   "cell_type": "code",
   "execution_count": null,
   "metadata": {},
   "outputs": [],
   "source": []
  },
  {
   "cell_type": "code",
   "execution_count": 46,
   "metadata": {},
   "outputs": [],
   "source": [
    "search_prompt = \"\"\"\n",
    "You run in a loop of Thought, Action, PAUSE, Observation.\n",
    "At the end of the loop you output an Answer\n",
    "Use Thought to describe your thoughts about the question you have been asked.\n",
    "Use Action to run one of the actions available to you - then return PAUSE.\n",
    "Observation will be the result of running those actions.\n",
    "\n",
    "Your available actions are:\n",
    "\n",
    "search_website_query\n",
    "e.g. search_website_query: what is the weather like in Dalian\n",
    "return the current weather in Dalian\n",
    "\n",
    "calculate:\n",
    "e.g. calculate: 4 * 7 / 3\n",
    "Runs a calculation and returns the number - uses Python so be sure to use floating point syntax if necessary\n",
    "\n",
    "\n",
    "\n",
    "Example session:\n",
    "\n",
    "Question: What is the weather like in HangZhou?\n",
    "Thought: I should look the weather in HangZhou using search_website_query\n",
    "Action: search_website_query: HangZhou\n",
    "PAUSE\n",
    "Action: search_website_query: HangZhou \n",
    "PAUSE\n",
    "\n",
    "You will be called again with this:\n",
    "\n",
    "Observation: the The weather in Hangzhou currently is cloudy with a temperature of 22.5°C (72.5°F). The wind speed is 6.8 kph coming from the east-southeast direction. The humidity level is at 76%, and the visibility is 10.0 km. \n",
    "\n",
    "You then output: Hangzhou cloudy with a temperature of 22.5°C (72.5°F). The wind speed is 6.8 kph coming from the east-southeast direction. The humidity level is at 76%, and the visibility is 10.0 km.\n",
    "\n",
    "Answer: the current weather in Hangzhou is cloudy with a temperature of 22.5°C (72.5°F). The wind speed is 6.8 kph coming from the east-southeast direction. The humidity level is at 76%, and the visibility is 10.0 km.\n",
    "\"\"\".strip()"
   ]
  },
  {
   "cell_type": "code",
   "execution_count": 61,
   "metadata": {},
   "outputs": [],
   "source": [
    "def calculate(what):\n",
    "    return eval(what)\n",
    "\n",
    "\n",
    "def search_website_query(query):\n",
    "    # print(\"Searching website\")\n",
    "    # run search\n",
    "    result = client.search(query, include_answer=True)\n",
    "    # print the answer\n",
    "    return result[\"answer\"]\n",
    "\n",
    "\n",
    "search_known_actions = {\"calculate\": calculate, \"search_website_query\": search_website_query}"
   ]
  },
  {
   "cell_type": "code",
   "execution_count": 48,
   "metadata": {},
   "outputs": [],
   "source": [
    "from tavily import TavilyClient"
   ]
  },
  {
   "cell_type": "code",
   "execution_count": 63,
   "metadata": {},
   "outputs": [
    {
     "data": {
      "text/plain": [
       "'The current weather in Dalian, Liaoning, China is sunny with a temperature of 32.2°C (90.0°F). The wind speed is 34.9 kph coming from the west, and the humidity is at 43%. The weather feels like 36.1°C (96.9°F).'"
      ]
     },
     "execution_count": 63,
     "metadata": {},
     "output_type": "execute_result"
    }
   ],
   "source": [
    "# client = TavilyClient(api_key=os.environ.get(\"TRAVILY_API_KEY\"))\n",
    "# result = client.search(\"What is the weather like in Hangzhou?\",\n",
    "#                        include_answer=True)\n",
    "\n",
    "# # print the answer\n",
    "# result[\"answer\"]\n",
    "search_website_query(\"what is the weather like in dalian?\")"
   ]
  },
  {
   "cell_type": "code",
   "execution_count": 51,
   "metadata": {},
   "outputs": [
    {
     "name": "stdout",
     "output_type": "stream",
     "text": [
      "Thought: I should look up the weather in Dalian using the search_website_query action.\n",
      "Action: search_website_query: what is the weather like in Dalian\n",
      "PAUSE\n"
     ]
    }
   ],
   "source": [
    "search_bot = Agent(search_prompt)\n",
    "result = search_bot(\"what is the weather like in Dalian\")\n",
    "print(result)"
   ]
  },
  {
   "cell_type": "code",
   "execution_count": 55,
   "metadata": {},
   "outputs": [],
   "source": [
    "def query(question, max_turns=5):\n",
    "    i = 0\n",
    "    bot = Agent(search_prompt)\n",
    "    next_prompt = question\n",
    "    while i < max_turns:\n",
    "        i += 1\n",
    "        result = bot(next_prompt)\n",
    "        print(result)\n",
    "        actions = [\n",
    "            action_re.match(a) \n",
    "            for a in result.split('\\n') \n",
    "            if action_re.match(a)\n",
    "        ]\n",
    "        if actions:\n",
    "            # There is an action to run\n",
    "            action, action_input = actions[0].groups()\n",
    "            if action not in search_known_actions:\n",
    "                raise Exception(\"Unknown action: {}: {}\".format(action, action_input))\n",
    "            print(\" -- running {} {}\".format(action, action_input))\n",
    "            observation = search_known_actions[action](action_input)\n",
    "            print(\"Observation:\", observation)\n",
    "            next_prompt = \"Observation: {}\".format(observation)\n",
    "        else:\n",
    "            return"
   ]
  },
  {
   "cell_type": "code",
   "execution_count": 65,
   "metadata": {},
   "outputs": [
    {
     "name": "stdout",
     "output_type": "stream",
     "text": [
      "Thought: I need to check the current weather in both Dalian and Hangzhou to compare them. I will start with Dalian.\n",
      "Action: search_website_query: current weather in Dalian\n",
      "PAUSE\n",
      "\n",
      "You will be called again with this:\n",
      "\n",
      "\n",
      " -- running search_website_query current weather in Dalian\n",
      "Observation: The current weather in Dalian, China is sunny with a temperature of 32.2°C (90.0°F). The wind speed is 34.9 kph coming from the west, with a humidity of 43%.\n",
      "Thought: Now that I have the weather for Dalian, I should look up the current weather in Hangzhou to make a comparison.\n",
      "Action: search_website_query: current weather in Hangzhou\n",
      "PAUSE\n",
      "\n",
      "You will be called again with this:\n",
      "\n",
      "\n",
      " -- running search_website_query current weather in Hangzhou\n",
      "Observation: The current weather in Hangzhou, China is sunny with a temperature of 25°C (77°F). The wind is coming from the southeast at 11.2 km/h (6.9 mph) with a humidity level of 69%. The visibility is 10.0 km (6.0 miles) and the UV index is 6.0.\n",
      "Thought: Having observed the weather in both cities, I can now compare them. Dalian has a higher temperature at 32.2°C and stronger winds at 34.9 kph, while Hangzhou is cooler at 25°C with milder winds at 11.2 km/h. The humidity in Dalian is lower at 43% compared to Hangzhou's 69%.\n",
      "\n",
      "Answer: Today, the weather might be considered better in Hangzhou due to its cooler temperature, lower wind speeds, and slightly higher humidity, which could make it feel more comfortable compared to the hotter and windier conditions in Dalian. However, the definition of \"better\" weather depends on personal preference.\n"
     ]
    }
   ],
   "source": [
    "question = \"\"\"between dalian and hangzhou which weather is better today?\"\"\"\n",
    "query(question)"
   ]
  },
  {
   "cell_type": "code",
   "execution_count": 66,
   "metadata": {},
   "outputs": [
    {
     "name": "stdout",
     "output_type": "stream",
     "text": [
      "Thought: I should search the web to find out which mountain is the highest in the world.\n",
      "Action: search_website_query: highest mountain in the world\n",
      "PAUSE\n",
      " -- running search_website_query highest mountain in the world\n",
      "Observation: Mount Everest is the highest mountain in the world, standing at 8,848.86 meters (29,031.7 feet) above sea level.\n",
      "Answer: The highest mountain in the world is Mount Everest, with an elevation of 8,848.86 meters (29,031.7 feet) above sea level.\n"
     ]
    }
   ],
   "source": [
    "question = \"\"\"which mountain is the highest mountain in the world?\"\"\"\n",
    "query(question)"
   ]
  },
  {
   "cell_type": "code",
   "execution_count": null,
   "metadata": {},
   "outputs": [],
   "source": []
  }
 ],
 "metadata": {
  "kernelspec": {
   "display_name": "langchain-exp-Lqh8BMyR-py3.11",
   "language": "python",
   "name": "python3"
  },
  "language_info": {
   "codemirror_mode": {
    "name": "ipython",
    "version": 3
   },
   "file_extension": ".py",
   "mimetype": "text/x-python",
   "name": "python",
   "nbconvert_exporter": "python",
   "pygments_lexer": "ipython3",
   "version": "3.11.6"
  }
 },
 "nbformat": 4,
 "nbformat_minor": 2
}
