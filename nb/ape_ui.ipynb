{
  "cells": [
    {
      "cell_type": "code",
      "source": [
        "#@title Install Dependencies\n",
        "! git clone https://github.com/keirp/automatic_prompt_engineer.git\n",
        "! pip install openai numpy tqdm gradio"
      ],
      "metadata": {
        "id": "x82vwepAs3Jg",
        "cellView": "form"
      },
      "execution_count": null,
      "outputs": []
    },
    {
      "cell_type": "code",
      "source": [
        "#@title Import\n",
        "import os\n",
        "import sys\n",
        "import openai\n",
        "\n",
        "for path in ['/content/automatic_prompt_engineer/automatic_prompt_engineer', \n",
        "             '/content/automatic_prompt_engineer']:\n",
        "  if path not in sys.path:\n",
        "    sys.path.insert(1, path)\n",
        "\n",
        "from demo import get_demo"
      ],
      "metadata": {
        "id": "HbYuP9fSwDUb",
        "cellView": "form"
      },
      "execution_count": null,
      "outputs": []
    },
    {
      "cell_type": "markdown",
      "source": [
        "# Start Demo\n",
        "- [Video](https://drive.google.com/file/d/18e3N5AbrHUsfnuDVvoEKLfxUxkbr6QUI/view?usp=sharing)\n",
        "- Requirement: openai api_key\n",
        "- After running the following cell, you can see a public URL end with `.gradio.app`. Open it up to start APE!"
      ],
      "metadata": {
        "id": "ISYGGUiElzsu"
      }
    },
    {
      "cell_type": "code",
      "source": [
        "openai.api_key = ''\n",
        "demo = get_demo()\n",
        "demo.launch(debug=True)"
      ],
      "metadata": {
        "id": "SjnWC-WhFntO",
        "colab": {
          "base_uri": "https://localhost:8080/",
          "height": 699
        },
        "outputId": "0e6357a3-8007-4cdb-ea34-07565801f323"
      },
      "execution_count": null,
      "outputs": [
        {
          "metadata": {
            "tags": null
          },
          "name": "stderr",
          "output_type": "stream",
          "text": [
            "/usr/local/lib/python3.7/dist-packages/gradio/deprecation.py:44: UserWarning: You have unused kwarg parameters in Textbox, please remove them: {'disabled': True}\n",
            "  f\"You have unused kwarg parameters in {cls}, please remove them: {kwargs}\"\n"
          ]
        },
        {
          "metadata": {
            "tags": null
          },
          "name": "stdout",
          "output_type": "stream",
          "text": [
            "Colab notebook detected. This cell will run indefinitely so that you can see errors and logs. To turn off, set debug=False in launch().\n",
            "Running on public URL: https://6bbe45e067edb004.gradio.app\n",
            "\n",
            "This share link expires in 72 hours. For free permanent hosting and GPU upgrades (NEW!), check out Spaces: https://huggingface.co/spaces\n"
          ]
        },
        {
          "data": {
            "text/html": [
              "<div><iframe src=\"https://6bbe45e067edb004.gradio.app\" width=\"900\" height=\"500\" allow=\"autoplay; camera; microphone; clipboard-read; clipboard-write;\" frameborder=\"0\" allowfullscreen></iframe></div>"
            ],
            "text/plain": [
              "<IPython.core.display.HTML object>"
            ]
          },
          "metadata": {},
          "output_type": "display_data"
        },
        {
          "output_type": "stream",
          "name": "stdout",
          "text": [
            "Keyboard interruption in main thread... closing server.\n"
          ]
        },
        {
          "output_type": "execute_result",
          "data": {
            "text/plain": [
              "(<gradio.routes.App at 0x7f6d20a77990>,\n",
              " 'http://127.0.0.1:7860/',\n",
              " 'https://6bbe45e067edb004.gradio.app')"
            ]
          },
          "metadata": {},
          "execution_count": 3
        }
      ]
    }
  ],
  "metadata": {
    "kernelspec": {
      "display_name": "Python 3.8.8 ('py38')",
      "language": "python",
      "name": "python3"
    },
    "language_info": {
      "codemirror_mode": {
        "name": "ipython",
        "version": 3
      },
      "file_extension": ".py",
      "mimetype": "text/x-python",
      "name": "python",
      "nbconvert_exporter": "python",
      "pygments_lexer": "ipython3",
      "version": "3.8.8"
    },
    "orig_nbformat": 4,
    "vscode": {
      "interpreter": {
        "hash": "c2afcb7a2e6fcb9490d448e607abf9226c3f7acca28baeea9bc24b456562037f"
      }
    },
    "colab": {
      "provenance": []
    }
  },
  "nbformat": 4,
  "nbformat_minor": 0
}